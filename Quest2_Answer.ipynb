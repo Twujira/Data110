{
  "nbformat": 4,
  "nbformat_minor": 0,
  "metadata": {
    "colab": {
      "provenance": [],
      "authorship_tag": "ABX9TyPy7xw1DsHoKBWxn+rAHCu4",
      "include_colab_link": true
    },
    "kernelspec": {
      "name": "python3",
      "display_name": "Python 3"
    },
    "language_info": {
      "name": "python"
    }
  },
  "cells": [
    {
      "cell_type": "markdown",
      "metadata": {
        "id": "view-in-github",
        "colab_type": "text"
      },
      "source": [
        "<a href=\"https://colab.research.google.com/github/Twujira/Data110/blob/main/Quest2_Answer.ipynb\" target=\"_parent\"><img src=\"https://colab.research.google.com/assets/colab-badge.svg\" alt=\"Open In Colab\"/></a>"
      ]
    },
    {
      "cell_type": "code",
      "execution_count": 29,
      "metadata": {
        "colab": {
          "base_uri": "https://localhost:8080/",
          "height": 0
        },
        "id": "C56hOQKiB-jg",
        "outputId": "9d0290c8-fbbf-4be4-b815-56157538f2f5"
      },
      "outputs": [
        {
          "output_type": "execute_result",
          "data": {
            "text/plain": [
              "(Matrix([\n",
              " [1, 0, 1, -2],\n",
              " [0, 1, 2, -1],\n",
              " [0, 0, 0,  0],\n",
              " [0, 0, 0,  0]]),\n",
              " (0, 1))"
            ]
          },
          "metadata": {},
          "execution_count": 29
        }
      ],
      "source": [
        "from sympy import Matrix\n",
        "import numpy as np\n",
        "\n",
        "a = Matrix([[1, -4, -7, 2],\n",
        "            [-1, -4, -9, 6],\n",
        "            [-1, -4, -9, 6],\n",
        "            [0, -3, -6, 3]])\n",
        "a.rref()"
      ]
    },
    {
      "cell_type": "markdown",
      "source": [
        "X1V1+X2V2+X3V3=V"
      ],
      "metadata": {
        "id": "RoxTn-vMa35M"
      }
    },
    {
      "cell_type": "code",
      "source": [
        "rref_matrix, pivot_columns = a.rref()\n",
        "len(pivot_columns)\n",
        "\n",
        "print(\"RREF of the matrix:\")\n",
        "print(rref_matrix,pivot_columns)"
      ],
      "metadata": {
        "colab": {
          "base_uri": "https://localhost:8080/",
          "height": 0
        },
        "id": "0UjLvqTtD6Un",
        "outputId": "e2c736b8-8d04-417c-8398-e4135552d8b3"
      },
      "execution_count": 8,
      "outputs": [
        {
          "output_type": "stream",
          "name": "stdout",
          "text": [
            "RREF of the matrix:\n",
            "Matrix([[1, 0, 1, -2], [0, 1, 2, -1], [0, 0, 0, 0], [0, 0, 0, 0]]) (0, 1)\n"
          ]
        }
      ]
    },
    {
      "cell_type": "markdown",
      "source": [
        "X3=a free variable\n",
        "\n",
        "X1+X3=-2 , X1+a=-2\n",
        "\n",
        "X2+X3=-1 , X2+a=-1\n",
        "\n",
        "Since thisequation has many solutions.V is linear combination of V1,V2, and V3"
      ],
      "metadata": {
        "id": "tQpq7XT_GFaB"
      }
    },
    {
      "cell_type": "markdown",
      "source": [],
      "metadata": {
        "id": "IbnUy1C2a3N1"
      }
    },
    {
      "cell_type": "code",
      "source": [
        "b = Matrix([[1, -4, -7, 3],\n",
        "            [-1, -4, -9, 7],\n",
        "            [-1, -4, -9, 5],\n",
        "            [0, -3, -6, 4]])\n",
        "b.rref()"
      ],
      "metadata": {
        "colab": {
          "base_uri": "https://localhost:8080/",
          "height": 0
        },
        "id": "yNsC7bU2GGFY",
        "outputId": "d0f87b95-9836-4517-ff33-f60fffaf8e86"
      },
      "execution_count": 30,
      "outputs": [
        {
          "output_type": "execute_result",
          "data": {
            "text/plain": [
              "(Matrix([\n",
              " [1, 0, 1, 0],\n",
              " [0, 1, 2, 0],\n",
              " [0, 0, 0, 1],\n",
              " [0, 0, 0, 0]]),\n",
              " (0, 1, 3))"
            ]
          },
          "metadata": {},
          "execution_count": 30
        }
      ]
    },
    {
      "cell_type": "markdown",
      "source": [
        "X1V1+X2V2+X3V3=V"
      ],
      "metadata": {
        "id": "LuqhL3K2beGz"
      }
    },
    {
      "cell_type": "code",
      "source": [
        "rref_matrix, pivot_columns = b.rref()\n",
        "len(pivot_columns)\n",
        "\n",
        "print(\"RREF of the matrix:\")\n",
        "print(rref_matrix,pivot_columns)"
      ],
      "metadata": {
        "colab": {
          "base_uri": "https://localhost:8080/",
          "height": 0
        },
        "id": "I_120p-hGaDA",
        "outputId": "b8a5c3bf-8397-468d-903c-ebb57448444d"
      },
      "execution_count": 10,
      "outputs": [
        {
          "output_type": "stream",
          "name": "stdout",
          "text": [
            "RREF of the matrix:\n",
            "Matrix([[1, 0, 1, 0], [0, 1, 2, 0], [0, 0, 0, 1], [0, 0, 0, 0]]) (0, 1, 3)\n"
          ]
        }
      ]
    },
    {
      "cell_type": "markdown",
      "source": [
        "There is contradiction on the third row (0=1) which is false. This means there is no consistency. Therefore, there is no solution."
      ],
      "metadata": {
        "id": "HTJbtMexIg20"
      }
    },
    {
      "cell_type": "markdown",
      "source": [
        "Question2\n",
        "\n",
        "A"
      ],
      "metadata": {
        "id": "WGViyyVLY2sA"
      }
    },
    {
      "cell_type": "code",
      "source": [
        "S = Matrix([[1, 0, 5, 2],\n",
        "            [1, -1, 2, 3],\n",
        "            [1, 1, -1, 1],\n",
        "            [0, -2, -1, 2]])"
      ],
      "metadata": {
        "id": "zgFWj5I2Yr5Z"
      },
      "execution_count": 36,
      "outputs": []
    },
    {
      "cell_type": "code",
      "source": [
        "rref_matrix, pivot_columns = S.rref()\n",
        "len(pivot_columns)\n",
        "\n",
        "print(\"RREF of the matrix:\")\n",
        "print(rref_matrix,pivot_columns)"
      ],
      "metadata": {
        "colab": {
          "base_uri": "https://localhost:8080/",
          "height": 0
        },
        "id": "C8qMleoDZskD",
        "outputId": "af6ac733-b344-4bef-fd63-242a9f4a07cb"
      },
      "execution_count": 15,
      "outputs": [
        {
          "output_type": "stream",
          "name": "stdout",
          "text": [
            "RREF of the matrix:\n",
            "Matrix([[1, 0, 0, 2], [0, 1, 0, -1], [0, 0, 1, 0], [0, 0, 0, 0]]) (0, 1, 2)\n"
          ]
        }
      ]
    },
    {
      "cell_type": "code",
      "source": [
        "is_basis_for_R4 = len(pivot_columns) == 4\n",
        "\n",
        "print(\"Is the set a basis for R^4?\", is_basis_for_R4)\n",
        "print(\"Pivot columns:\", pivot_columns)\n"
      ],
      "metadata": {
        "colab": {
          "base_uri": "https://localhost:8080/",
          "height": 0
        },
        "id": "eAulelXSjTO3",
        "outputId": "c17a38a0-612b-4ca7-d557-ffc4de6b3115"
      },
      "execution_count": 16,
      "outputs": [
        {
          "output_type": "stream",
          "name": "stdout",
          "text": [
            "Is the set a basis for R^4? False\n",
            "Pivot columns: (0, 1, 2)\n"
          ]
        }
      ]
    },
    {
      "cell_type": "markdown",
      "source": [
        "B."
      ],
      "metadata": {
        "id": "LZUF3ncxjnQR"
      }
    },
    {
      "cell_type": "code",
      "source": [
        "G = Matrix([[1, -1, 1, -3, 2],\n",
        "            [0, 0, 1, 0,-4],\n",
        "            [1, -1, 0, -2, 3],\n",
        "            [0, 0, 1, 0,-3]])"
      ],
      "metadata": {
        "id": "oCUkp5H_jmEO"
      },
      "execution_count": 35,
      "outputs": []
    },
    {
      "cell_type": "code",
      "source": [
        "rref_matrix, pivot_columns = G.rref()\n",
        "len(pivot_columns)\n",
        "\n",
        "print(\"RREF of the matrix:\")\n",
        "print(rref_matrix,pivot_columns)"
      ],
      "metadata": {
        "colab": {
          "base_uri": "https://localhost:8080/",
          "height": 0
        },
        "id": "V6fKdH00k8F8",
        "outputId": "a2bc2864-0106-46c1-a2e3-f66a0f29e72a"
      },
      "execution_count": 18,
      "outputs": [
        {
          "output_type": "stream",
          "name": "stdout",
          "text": [
            "RREF of the matrix:\n",
            "Matrix([[1, -1, 0, 0, 0], [0, 0, 1, 0, 0], [0, 0, 0, 1, 0], [0, 0, 0, 0, 1]]) (0, 2, 3, 4)\n"
          ]
        }
      ]
    },
    {
      "cell_type": "code",
      "source": [
        "is_basis_for_R4 = len(pivot_columns) == 4\n",
        "\n",
        "print(\"Is the set a basis for R^4?\", is_basis_for_R4)\n",
        "print(\"Pivot columns:\", pivot_columns)"
      ],
      "metadata": {
        "colab": {
          "base_uri": "https://localhost:8080/",
          "height": 0
        },
        "id": "rQ7wVxT7k_8I",
        "outputId": "c28f71df-225d-4b37-e7d2-e46530f07acf"
      },
      "execution_count": 19,
      "outputs": [
        {
          "output_type": "stream",
          "name": "stdout",
          "text": [
            "Is the set a basis for R^4? True\n",
            "Pivot columns: (0, 2, 3, 4)\n"
          ]
        }
      ]
    },
    {
      "cell_type": "markdown",
      "source": [
        "C."
      ],
      "metadata": {
        "id": "wfIKRKYWlRSs"
      }
    },
    {
      "cell_type": "code",
      "source": [
        "C = Matrix([[4, 5, 3],\n",
        "            [3, 4, 2],\n",
        "            [-3, 1, -7],\n",
        "            [1, 3, -1]])"
      ],
      "metadata": {
        "id": "2qCN93LElTo4"
      },
      "execution_count": 34,
      "outputs": []
    },
    {
      "cell_type": "code",
      "source": [
        "rref_matrix, pivot_columns = C.rref()\n",
        "len(pivot_columns)\n",
        "\n",
        "print(\"RREF of the matrix:\")\n",
        "print(rref_matrix,pivot_columns)"
      ],
      "metadata": {
        "colab": {
          "base_uri": "https://localhost:8080/",
          "height": 0
        },
        "id": "TWim_qkTmLeo",
        "outputId": "e7e09063-99a1-4c0a-cbb5-e06a03aea597"
      },
      "execution_count": 21,
      "outputs": [
        {
          "output_type": "stream",
          "name": "stdout",
          "text": [
            "RREF of the matrix:\n",
            "Matrix([[1, 0, 2], [0, 1, -1], [0, 0, 0], [0, 0, 0]]) (0, 1)\n"
          ]
        }
      ]
    },
    {
      "cell_type": "code",
      "source": [
        "is_basis_for_R4 = len(pivot_columns) == 4\n",
        "\n",
        "print(\"Is the set a basis for R^4?\", is_basis_for_R4)\n",
        "print(\"Pivot columns:\", pivot_columns)"
      ],
      "metadata": {
        "colab": {
          "base_uri": "https://localhost:8080/",
          "height": 0
        },
        "id": "xfKjI69gmOjW",
        "outputId": "fc410aab-b633-4ef9-e675-033121f8f02e"
      },
      "execution_count": 22,
      "outputs": [
        {
          "output_type": "stream",
          "name": "stdout",
          "text": [
            "Is the set a basis for R^4? False\n",
            "Pivot columns: (0, 1)\n"
          ]
        }
      ]
    },
    {
      "cell_type": "markdown",
      "source": [
        "Question3.\n",
        "\n",
        "a"
      ],
      "metadata": {
        "id": "K97XPZicqLoL"
      }
    },
    {
      "cell_type": "markdown",
      "source": [
        "The reason only one of the subsets is likely to be a subspace is because U is a 3 dimensional subspace and W is a 2 dimensional subspace."
      ],
      "metadata": {
        "id": "JOZJgHo-4vMn"
      }
    },
    {
      "cell_type": "markdown",
      "source": [
        "b.\n",
        "\n",
        "-5xy-3y-4y=0\n",
        "if we substitute 0, it will satisfy the equation because 0=0.\n",
        "\n",
        "However,there is no other solution set will give us equivalent with zero. either x,y,or z at least one of them different from zero, it does not satisfy the equation. Therefore, Q is not a subspace."
      ],
      "metadata": {
        "id": "oi8oT6j7iWaA"
      }
    },
    {
      "cell_type": "markdown",
      "source": [
        "c.\n",
        "\n",
        "-3x-y=-3z\n",
        "\n",
        "if we substitute 0\n",
        "\n",
        "-3(0)-0=-3(0)\n",
        "\n",
        "0=0 this satisfies the equation\n",
        "\n",
        "Again\n",
        "if we substitute\n",
        "\n",
        "x=1\n",
        "\n",
        "y=0\n",
        "\n",
        "z=1\n",
        "\n",
        "-3(1)-0=-3(1)\n",
        "\n",
        "-3=-3, This is also satisfies the equation.\n",
        "\n",
        "Again, if we substitute the multiplication of the solution set by a constant number, it will satisfy the equation.\n",
        "\n",
        "2([1],[0][1])= ([2],[0],[2])\n",
        "\n",
        "-3(2)-0=-3(2)\n",
        "\n",
        "-6=-6\n",
        "\n",
        "Therefore, R is a subspace\n"
      ],
      "metadata": {
        "id": "cfdzs3K3pacR"
      }
    },
    {
      "cell_type": "markdown",
      "source": [
        "4. a"
      ],
      "metadata": {
        "id": "Gt4TS-qOq44J"
      }
    },
    {
      "cell_type": "code",
      "source": [
        "F = Matrix([[4, -12, -1, 1, 8],\n",
        "            [1, -3, 1, -5,-11],\n",
        "            [3, -9, -1, 2, 9],\n",
        "            [0, 0, 0, 3,6]])\n",
        "F.rref()"
      ],
      "metadata": {
        "colab": {
          "base_uri": "https://localhost:8080/",
          "height": 0
        },
        "id": "A6sPtxdrq7gS",
        "outputId": "e080c07c-7bd3-44cb-a079-2e6ae8f900aa"
      },
      "execution_count": 28,
      "outputs": [
        {
          "output_type": "execute_result",
          "data": {
            "text/plain": [
              "(Matrix([\n",
              " [1, -3, 0, 0,  1],\n",
              " [0,  0, 1, 0, -2],\n",
              " [0,  0, 0, 1,  2],\n",
              " [0,  0, 0, 0,  0]]),\n",
              " (0, 2, 3))"
            ]
          },
          "metadata": {},
          "execution_count": 28
        }
      ]
    },
    {
      "cell_type": "markdown",
      "source": [
        "b."
      ],
      "metadata": {
        "id": "pUQsCMJctycQ"
      }
    },
    {
      "cell_type": "markdown",
      "source": [
        "This equation has infinite linearly dependent."
      ],
      "metadata": {
        "id": "yQLmgHaMtWPJ"
      }
    },
    {
      "cell_type": "code",
      "source": [
        "H = Matrix([[5, -2, -5, -5],\n",
        "            [-3, 1, 4, 0],\n",
        "            [-2, 0, 3, -2],\n",
        "            [2, -1, -2, -2]])\n",
        "H.rref()"
      ],
      "metadata": {
        "colab": {
          "base_uri": "https://localhost:8080/",
          "height": 0
        },
        "id": "IWx6pAIdrvFv",
        "outputId": "6bf5b64e-19e2-46ec-cac4-7682d0bc5546"
      },
      "execution_count": 38,
      "outputs": [
        {
          "output_type": "execute_result",
          "data": {
            "text/plain": [
              "(Matrix([\n",
              " [1, 0, 0, 0],\n",
              " [0, 1, 0, 0],\n",
              " [0, 0, 1, 0],\n",
              " [0, 0, 0, 1]]),\n",
              " (0, 1, 2, 3))"
            ]
          },
          "metadata": {},
          "execution_count": 38
        }
      ]
    },
    {
      "cell_type": "markdown",
      "source": [
        "It only has one solution and\n",
        "\n",
        "This equation has linearly independent solution."
      ],
      "metadata": {
        "id": "MduoFU9BuaEo"
      }
    },
    {
      "cell_type": "markdown",
      "source": [
        "c."
      ],
      "metadata": {
        "id": "oX7dqxg2iMzD"
      }
    },
    {
      "cell_type": "code",
      "source": [
        "K = Matrix([[4, 5, 3],\n",
        "            [3, 4, 2],\n",
        "            [-3, 1, -7],\n",
        "            [1, 3, -1]])\n",
        "K.rref()"
      ],
      "metadata": {
        "colab": {
          "base_uri": "https://localhost:8080/",
          "height": 0
        },
        "id": "xA-r5FJ7uj2W",
        "outputId": "6c754e75-26d9-47ba-8db7-e9613260f228"
      },
      "execution_count": 39,
      "outputs": [
        {
          "output_type": "execute_result",
          "data": {
            "text/plain": [
              "(Matrix([\n",
              " [1, 0,  2],\n",
              " [0, 1, -1],\n",
              " [0, 0,  0],\n",
              " [0, 0,  0]]),\n",
              " (0, 1))"
            ]
          },
          "metadata": {},
          "execution_count": 39
        }
      ]
    },
    {
      "cell_type": "markdown",
      "source": [
        "This equation has infinite linearly dependent solution."
      ],
      "metadata": {
        "id": "FR2rF37JvEyp"
      }
    },
    {
      "cell_type": "markdown",
      "source": [
        "5. a"
      ],
      "metadata": {
        "id": "tI3K7FGpvMsx"
      }
    },
    {
      "cell_type": "code",
      "source": [
        "E = Matrix([[1, 0, 2, -3, -1],\n",
        "            [-5, 1, 12, 0,7],\n",
        "            [4, -3, 0, -14, -10],\n",
        "            [4, -5, 1, -18,-14]])"
      ],
      "metadata": {
        "id": "_ZSIe4DivOJ3"
      },
      "execution_count": 40,
      "outputs": []
    },
    {
      "cell_type": "code",
      "source": [
        "rref_matrix, pivot_columns = E.rref()\n",
        "len(pivot_columns)\n",
        "\n",
        "print(\"RREF of the matrix:\")\n",
        "print(rref_matrix,pivot_columns)"
      ],
      "metadata": {
        "colab": {
          "base_uri": "https://localhost:8080/",
          "height": 0
        },
        "id": "Z96_YUV4v501",
        "outputId": "047968c3-554e-4e38-a6fd-fe8c662a2681"
      },
      "execution_count": 41,
      "outputs": [
        {
          "output_type": "stream",
          "name": "stdout",
          "text": [
            "RREF of the matrix:\n",
            "Matrix([[1, 0, 0, 0, -1], [0, 1, 0, 0, 2], [0, 0, 1, 0, 0], [0, 0, 0, 1, 0]]) (0, 1, 2, 3)\n"
          ]
        }
      ]
    },
    {
      "cell_type": "code",
      "source": [
        "is_basis_for_R4 = len(pivot_columns) == 4\n",
        "\n",
        "print(\"Is the set a basis for R^4?\", is_basis_for_R4)\n",
        "print(\"Pivot columns:\", pivot_columns)"
      ],
      "metadata": {
        "colab": {
          "base_uri": "https://localhost:8080/",
          "height": 0
        },
        "id": "-aCXQdGYv8ed",
        "outputId": "bc399f87-8f7c-4491-faae-0cfb130f9434"
      },
      "execution_count": 42,
      "outputs": [
        {
          "output_type": "stream",
          "name": "stdout",
          "text": [
            "Is the set a basis for R^4? True\n",
            "Pivot columns: (0, 1, 2, 3)\n"
          ]
        }
      ]
    },
    {
      "cell_type": "markdown",
      "source": [
        "b."
      ],
      "metadata": {
        "id": "IcdbHGu2wJub"
      }
    },
    {
      "cell_type": "code",
      "source": [
        "I = Matrix([[1, 0, 2, -3, -1],\n",
        "            [-5, 1, 12, 0,7],\n",
        "            [4, -3, 0, -14, -10],\n",
        "            [4, -5, 1, -18,-14]])"
      ],
      "metadata": {
        "id": "HcPH2NXcwNHQ"
      },
      "execution_count": 43,
      "outputs": []
    },
    {
      "cell_type": "code",
      "source": [
        "rref_matrix, pivot_columns = I.rref()\n",
        "len(pivot_columns)\n",
        "\n",
        "print(\"RREF of the matrix:\")\n",
        "print(rref_matrix,pivot_columns)"
      ],
      "metadata": {
        "colab": {
          "base_uri": "https://localhost:8080/",
          "height": 0
        },
        "id": "x0OVf1uWwb8p",
        "outputId": "8ccdbde6-20ea-4a3c-f970-46e21afb1cba"
      },
      "execution_count": 44,
      "outputs": [
        {
          "output_type": "stream",
          "name": "stdout",
          "text": [
            "RREF of the matrix:\n",
            "Matrix([[1, 0, 0, 0, -1], [0, 1, 0, 0, 2], [0, 0, 1, 0, 0], [0, 0, 0, 1, 0]]) (0, 1, 2, 3)\n"
          ]
        }
      ]
    },
    {
      "cell_type": "code",
      "source": [
        "is_basis_for_R4 = len(pivot_columns) == 4\n",
        "\n",
        "print(\"Is the set a basis for R^4?\", is_basis_for_R4)\n",
        "print(\"Pivot columns:\", pivot_columns)"
      ],
      "metadata": {
        "colab": {
          "base_uri": "https://localhost:8080/",
          "height": 0
        },
        "id": "9oQg1msbwkww",
        "outputId": "1847cdef-d393-4114-c822-9c2d0385a2bd"
      },
      "execution_count": 45,
      "outputs": [
        {
          "output_type": "stream",
          "name": "stdout",
          "text": [
            "Is the set a basis for R^4? True\n",
            "Pivot columns: (0, 1, 2, 3)\n"
          ]
        }
      ]
    },
    {
      "cell_type": "markdown",
      "source": [
        "c."
      ],
      "metadata": {
        "id": "Bm7_G4D4wwww"
      }
    },
    {
      "cell_type": "code",
      "source": [
        "J = Matrix([[1, -3, -2, 2],\n",
        "            [-1, 1, 1, -1],\n",
        "            [0, 1, 0, -2],\n",
        "            [1, -1, -3, -4]])"
      ],
      "metadata": {
        "id": "6iq1PRhGwyXq"
      },
      "execution_count": 50,
      "outputs": []
    },
    {
      "cell_type": "code",
      "source": [
        "rref_matrix, pivot_columns = J.rref()\n",
        "len(pivot_columns)\n",
        "\n",
        "print(\"RREF of the matrix:\")\n",
        "print(rref_matrix,pivot_columns)"
      ],
      "metadata": {
        "colab": {
          "base_uri": "https://localhost:8080/",
          "height": 0
        },
        "id": "AnlUyo3QxZFy",
        "outputId": "ddb884e4-827e-46e1-c764-d9955c48e3ec"
      },
      "execution_count": 51,
      "outputs": [
        {
          "output_type": "stream",
          "name": "stdout",
          "text": [
            "RREF of the matrix:\n",
            "Matrix([[1, 0, 0, 0], [0, 1, 0, 0], [0, 0, 1, 0], [0, 0, 0, 1]]) (0, 1, 2, 3)\n"
          ]
        }
      ]
    },
    {
      "cell_type": "code",
      "source": [
        "is_basis_for_R4 = len(pivot_columns) == 4\n",
        "\n",
        "print(\"Is the set a basis for R^4?\", is_basis_for_R4)\n",
        "print(\"Pivot columns:\", pivot_columns)"
      ],
      "metadata": {
        "colab": {
          "base_uri": "https://localhost:8080/",
          "height": 0
        },
        "id": "MtGtEFv1xa5b",
        "outputId": "5707e483-1c8b-4cdb-a05c-2dcf23484840"
      },
      "execution_count": 52,
      "outputs": [
        {
          "output_type": "stream",
          "name": "stdout",
          "text": [
            "Is the set a basis for R^4? True\n",
            "Pivot columns: (0, 1, 2, 3)\n"
          ]
        }
      ]
    },
    {
      "cell_type": "markdown",
      "source": [
        "6. a"
      ],
      "metadata": {
        "id": "ww5gicJ6xoEP"
      }
    },
    {
      "cell_type": "code",
      "source": [
        "L = Matrix([[3, 1, -3],\n",
        "            [2, -5, 15],\n",
        "            [-2, 3, -9],\n",
        "            [-1, -2, 6]])\n",
        "L.rref()"
      ],
      "metadata": {
        "colab": {
          "base_uri": "https://localhost:8080/",
          "height": 0
        },
        "id": "GcpNZExAxq8k",
        "outputId": "c2f60419-dead-4cfa-db6b-048a203950f2"
      },
      "execution_count": 49,
      "outputs": [
        {
          "output_type": "execute_result",
          "data": {
            "text/plain": [
              "(Matrix([\n",
              " [1, 0,  0],\n",
              " [0, 1, -3],\n",
              " [0, 0,  0],\n",
              " [0, 0,  0]]),\n",
              " (0, 1))"
            ]
          },
          "metadata": {},
          "execution_count": 49
        }
      ]
    },
    {
      "cell_type": "code",
      "source": [
        "rref_matrix, pivot_columns = L.rref()\n",
        "len(pivot_columns)\n",
        "\n",
        "print(\"RREF of the matrix:\")\n",
        "print(rref_matrix,pivot_columns)"
      ],
      "metadata": {
        "colab": {
          "base_uri": "https://localhost:8080/",
          "height": 0
        },
        "id": "OBNbGrcW1VeD",
        "outputId": "99e0c6b7-137f-4a81-84ef-15e6957e5b96"
      },
      "execution_count": 61,
      "outputs": [
        {
          "output_type": "stream",
          "name": "stdout",
          "text": [
            "RREF of the matrix:\n",
            "Matrix([[1, 0, 0], [0, 1, -3], [0, 0, 0], [0, 0, 0]]) (0, 1)\n"
          ]
        }
      ]
    },
    {
      "cell_type": "code",
      "source": [
        "is_basis_for_R3 = len(pivot_columns) == 3\n",
        "\n",
        "print(\"Is the set a basis for R^3?\", is_basis_for_R3)\n",
        "print(\"Pivot columns:\", pivot_columns)"
      ],
      "metadata": {
        "colab": {
          "base_uri": "https://localhost:8080/",
          "height": 0
        },
        "id": "Sp0GGzzv1iiK",
        "outputId": "8291363f-e77b-43c5-bf39-27fb3976c22a"
      },
      "execution_count": 63,
      "outputs": [
        {
          "output_type": "stream",
          "name": "stdout",
          "text": [
            "Is the set a basis for R^3? False\n",
            "Pivot columns: (0, 1)\n"
          ]
        }
      ]
    },
    {
      "cell_type": "code",
      "source": [
        "dimension_L = L.shape[0]\n",
        "print(\"Dimension of W:\", dimension_L)"
      ],
      "metadata": {
        "colab": {
          "base_uri": "https://localhost:8080/",
          "height": 0
        },
        "id": "Fcev9gLz93YR",
        "outputId": "28bec59b-bc80-47bf-f54f-eab0cbb36c30"
      },
      "execution_count": 59,
      "outputs": [
        {
          "output_type": "stream",
          "name": "stdout",
          "text": [
            "Dimension of W: 4\n"
          ]
        }
      ]
    },
    {
      "cell_type": "markdown",
      "source": [
        "QUESTION_7\n",
        "\n",
        "a."
      ],
      "metadata": {
        "id": "Fea7uVNiBNBt"
      }
    },
    {
      "cell_type": "code",
      "source": [
        "Homo = Matrix([[1, -3, -1, -2, 0],\n",
        "            [1, -3, 0, -5, 0],\n",
        "            [0, 0, -1, 4, 0],\n",
        "            [1, -3, -2, 2, 0]])\n",
        "Homo.rref()"
      ],
      "metadata": {
        "colab": {
          "base_uri": "https://localhost:8080/",
          "height": 0
        },
        "id": "Ry90Py9sBVbz",
        "outputId": "36793ecb-dc9e-4251-bd64-afaf5db75c68"
      },
      "execution_count": 69,
      "outputs": [
        {
          "output_type": "execute_result",
          "data": {
            "text/plain": [
              "(Matrix([\n",
              " [1, -3, 0, 0, 0],\n",
              " [0,  0, 1, 0, 0],\n",
              " [0,  0, 0, 1, 0],\n",
              " [0,  0, 0, 0, 0]]),\n",
              " (0, 2, 3))"
            ]
          },
          "metadata": {},
          "execution_count": 69
        }
      ]
    },
    {
      "cell_type": "code",
      "source": [
        "rref_matrix, pivot_columns = Homo.rref()\n",
        "len(pivot_columns)\n",
        "\n",
        "print(\"RREF of the matrix:\")\n",
        "print(rref_matrix,pivot_columns)"
      ],
      "metadata": {
        "colab": {
          "base_uri": "https://localhost:8080/",
          "height": 0
        },
        "id": "TytX06MkGGxy",
        "outputId": "c14bb18e-df26-4b45-d7eb-5f1aa7b65bba"
      },
      "execution_count": 67,
      "outputs": [
        {
          "output_type": "stream",
          "name": "stdout",
          "text": [
            "RREF of the matrix:\n",
            "Matrix([[1, 0, 0, 0], [0, 1, 0, 0], [0, 0, 1, 0], [0, 0, 0, 1]]) (0, 1, 2, 3)\n"
          ]
        }
      ]
    },
    {
      "cell_type": "code",
      "source": [
        "is_basis_for_R4 = len(pivot_columns) == 4\n",
        "\n",
        "print(\"Is the set a basis for R^4?\", is_basis_for_R4)\n",
        "print(\"Pivot columns:\", pivot_columns)"
      ],
      "metadata": {
        "colab": {
          "base_uri": "https://localhost:8080/",
          "height": 0
        },
        "id": "zsS1UJnDGMUC",
        "outputId": "29eef8b3-65c2-44f1-e62b-703dcdcbf66b"
      },
      "execution_count": 68,
      "outputs": [
        {
          "output_type": "stream",
          "name": "stdout",
          "text": [
            "Is the set a basis for R^4? True\n",
            "Pivot columns: (0, 1, 2, 3)\n"
          ]
        }
      ]
    }
  ]
}